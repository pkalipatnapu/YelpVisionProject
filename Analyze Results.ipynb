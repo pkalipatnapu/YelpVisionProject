{
 "cells": [
  {
   "cell_type": "markdown",
   "metadata": {},
   "source": [
    "# Analyze results of Multilabel classification on Yelp Dataset"
   ]
  },
  {
   "cell_type": "markdown",
   "metadata": {},
   "source": [
    "This notebook analyzes the results of the yelp-multilabel ipython notebook. It expects the ests and gts arrays in the\n",
    "same folder as files."
   ]
  },
  {
   "cell_type": "code",
   "execution_count": 21,
   "metadata": {
    "collapsed": false
   },
   "outputs": [],
   "source": [
    "import numpy as np\n",
    "gts = np.load('gts.npy')\n",
    "ests = np.load('ests.npy')\n",
    "business_ids = np.load('business_ids.npy')\n",
    "photo_ids = np.load('photo_ids.npy')"
   ]
  },
  {
   "cell_type": "code",
   "execution_count": 22,
   "metadata": {
    "collapsed": false
   },
   "outputs": [],
   "source": [
    "# these are the Yelp classes, we'll need them later.\n",
    "classes = np.asarray(['good_for_lunch', 'good_for_dinner', 'takes_reservations', 'outdoor_seating',\n",
    "                      'restaurant_is_expensive', 'has_alcohol', 'has_table_service', 'ambience_is_classy',\n",
    "                      'good_for_kids'])"
   ]
  },
  {
   "cell_type": "code",
   "execution_count": 23,
   "metadata": {
    "collapsed": true
   },
   "outputs": [],
   "source": [
    "# For now, lets just analyze one class: good for lunch.\n",
    "class_of_interest = 0"
   ]
  },
  {
   "cell_type": "markdown",
   "metadata": {},
   "source": [
    "Lets seperate places into two groups, those which are good for lunch, and those with are bad."
   ]
  },
  {
   "cell_type": "code",
   "execution_count": 24,
   "metadata": {
    "collapsed": false
   },
   "outputs": [],
   "source": [
    "from collections import defaultdict\n",
    "# Create a dict with ground truths.\n",
    "business_attr = defaultdict(list)\n",
    "for gt, b_id in zip(gts, business_ids):\n",
    "    attr = business_attr[b_id]\n",
    "    # fill in ground truth only once.\n",
    "    if not len(attr):\n",
    "        business_attr[b_id] = gt"
   ]
  },
  {
   "cell_type": "code",
   "execution_count": 25,
   "metadata": {
    "collapsed": false
   },
   "outputs": [],
   "source": [
    "# Now we'll seperate ests into positive and negative classes.\n",
    "ests_positive = []\n",
    "ests_negative = []\n",
    "for preds, b_id in zip(ests, business_ids):\n",
    "    if business_attr[b_id][class_of_interest] == 1:\n",
    "        ests_positive.append(preds)\n",
    "    else:\n",
    "        ests_negative.append(preds)\n",
    "ests_positive = np.asarray(ests_positive)\n",
    "ests_negative = np.asarray(ests_negative)"
   ]
  },
  {
   "cell_type": "code",
   "execution_count": 26,
   "metadata": {
    "collapsed": false
   },
   "outputs": [
    {
     "name": "stdout",
     "output_type": "stream",
     "text": [
      "Percentage of restautants that are good_for_lunch: 26.1596\n",
      "Percentage of restautants that are not good_for_lunch: 73.8404\n",
      "48896\n"
     ]
    }
   ],
   "source": [
    "# Compare the number of elements in positive and negative classes.\n",
    "print 'Percentage of restautants that are ' + classes[class_of_interest] + ': {0:.4f}'.format(len(ests_positive)*100.0/len(ests))\n",
    "print 'Percentage of restautants that are not ' + classes[class_of_interest] + ': {0:.4f}'.format(len(ests_negative)*100.0/len(ests))\n",
    "print len(ests)"
   ]
  },
  {
   "cell_type": "code",
   "execution_count": 27,
   "metadata": {
    "collapsed": false
   },
   "outputs": [
    {
     "data": {
      "image/png": "[encoded data removed]",
      "text/plain": [
       "<matplotlib.figure.Figure at 0x106424650>"
      ]
     },
     "metadata": {},
     "output_type": "display_data"
    }
   ],
   "source": [
    "# Show a distribution of the scores for 'good_for_lunch'. Split by ground truth.\n",
    "%matplotlib inline\n",
    "\n",
    "import matplotlib.pyplot as plt\n",
    "import numpy as np\n",
    "\n",
    "def plot_score(preds_positive_class, preds_negative_class, class_of_interest, title, bins):\n",
    "    preds_positive_class_T = np.transpose(preds_positive_class)\n",
    "    preds_negative_class_T = np.transpose(preds_negative_class)\n",
    "    vals_positive = np.round(preds_positive_class_T[class_of_interest], decimals=2)\n",
    "    vals_negative = np.round(preds_negative_class_T[class_of_interest], decimals=2)\n",
    "    plt.hist(vals_negative, bins, alpha=0.5, label='not ' + classes[class_of_interest])\n",
    "    plt.hist(vals_positive, bins, alpha=0.5, label=classes[class_of_interest] )\n",
    "    plt.legend(loc='upper right')\n",
    "\n",
    "    plt.gca().set_xlim(vals_negative.min(), vals_positive.max())\n",
    "    plt.show()\n",
    "\n",
    "plot_score(ests_positive, ests_negative, class_of_interest, \"Score distribution of \" + classes[class_of_interest], 100)"
   ]
  },
  {
   "cell_type": "code",
   "execution_count": 28,
   "metadata": {
    "collapsed": false
   },
   "outputs": [],
   "source": [
    "# We can't expect every image to show evidence of the class.\n",
    "# What about seperation of mean scores.\n",
    "import sys\n",
    "business_preds=defaultdict(list)\n",
    "# First group by business.\n",
    "for image_pred, b_id in zip(ests, business_ids):\n",
    "    business_preds[b_id].append(image_pred)\n",
    "\n",
    "# Then compute mean scores for each business.\n",
    "for b_id, image_preds in business_preds.iteritems():\n",
    "    # Take a mean for all images in one business.\n",
    "    image_preds = np.asarray(image_preds)\n",
    "    business_preds[b_id] = np.mean(image_preds, axis=0)"
   ]
  },
  {
   "cell_type": "code",
   "execution_count": 29,
   "metadata": {
    "collapsed": false
   },
   "outputs": [
    {
     "name": "stdout",
     "output_type": "stream",
     "text": [
      "(145, 9)\n",
      "(255, 9)\n"
     ]
    }
   ],
   "source": [
    "# Now seperate the aggregated estimates into positive and negative classes.\n",
    "# Now we'll seperate ests into positive and negative classes.\n",
    "preds_positive = []\n",
    "preds_negative = []\n",
    "for b_id, preds in business_preds.iteritems():\n",
    "    if business_attr[b_id][class_of_interest] == 1:\n",
    "        preds_positive.append(preds)\n",
    "    else:\n",
    "        preds_negative.append(preds)\n",
    "preds_positive = np.asarray(preds_positive)\n",
    "preds_negative = np.asarray(preds_negative)\n",
    "print preds_positive.shape\n",
    "print preds_negative.shape"
   ]
  },
  {
   "cell_type": "code",
   "execution_count": 30,
   "metadata": {
    "collapsed": false
   },
   "outputs": [
    {
     "data": {
      "image/png": "[encoded data removed]",
      "text/plain": [
       "<matplotlib.figure.Figure at 0x106b5dcd0>"
      ]
     },
     "metadata": {},
     "output_type": "display_data"
    }
   ],
   "source": [
    "plot_score(preds_positive, preds_negative, class_of_interest, \"Score distribution of \" + classes[class_of_interest], 50)"
   ]
  },
  {
   "cell_type": "code",
   "execution_count": null,
   "metadata": {
    "collapsed": true
   },
   "outputs": [],
   "source": []
  }
 ],
 "metadata": {
  "kernelspec": {
   "display_name": "Python 2",
   "language": "python",
   "name": "python2"
  },
  "language_info": {
   "codemirror_mode": {
    "name": "ipython",
    "version": 2
   },
   "file_extension": ".py",
   "mimetype": "text/x-python",
   "name": "python",
   "nbconvert_exporter": "python",
   "pygments_lexer": "ipython2",
   "version": "2.7.10"
  }
 },
 "nbformat": 4,
 "nbformat_minor": 0
}
